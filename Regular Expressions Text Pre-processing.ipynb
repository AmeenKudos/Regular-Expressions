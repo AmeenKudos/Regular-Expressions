{
 "cells": [
  {
   "cell_type": "markdown",
   "metadata": {},
   "source": [
    "# Regular Expressions and Text Pre-processing\n"
   ]
  },
  {
   "cell_type": "markdown",
   "metadata": {},
   "source": [
    "## Regular Expressions"
   ]
  },
  {
   "cell_type": "markdown",
   "metadata": {},
   "source": [
    "Regular expressions (regex) are extremely useful in extracting information from any text by searching for one or more matches of a specific search pattern\n",
    "\n",
    "https://www.regexpal.com/"
   ]
  },
  {
   "cell_type": "markdown",
   "metadata": {},
   "source": [
    "#### Regular Expressions use cases\n",
    "\n",
    "- Data pre-processing\n",
    "- Pattern matching\n",
    "- Text feature Engineering\n",
    "- Web scraping\n",
    "- Data validation\n",
    "- Data extraction\n",
    "\n",
    "An example use case is extracting all hashtags from a tweet, or getting email addresses or phone numbers from large unstructured text content."
   ]
  },
  {
   "cell_type": "markdown",
   "metadata": {},
   "source": [
    "## Regular Expressions with Python\n",
    "\n",
    "Python provides a convenient built-in module for managing regular expressions: \n",
    "\n",
    "> import re \n",
    "\n",
    "We can import it as we import any other Python library."
   ]
  },
  {
   "cell_type": "markdown",
   "metadata": {},
   "source": [
    "### Important symbols in Regular Expression \n",
    "\n",
    "Let’s start with the basic regular expression characters and some examples:\n",
    "\n",
    "- (^) : Matches the expression to its right, at the start of a string before it finds a line break.\n",
    "- ($) : Matches the expression to its left, at the end of a string before it finds a line break.\n",
    "- (.) : Matches any character except newline.\n",
    "- (a) : Matches exactly one character.\n",
    "- (ab) : Matches the string ab.\n",
    "\n",
    "----------------------------------------------------------------------------\n",
    "Quantifiers:\n",
    "\n",
    "- (a|b) : Matches expression a or b. If a is matched first, b is not checked;\n",
    "- (+) : Matches the expression to its left 1 or more times;\n",
    "- (*) : Matches the expression to its left 0 or more times;\n",
    "- (?) : Matches the expression to its left 0 or 1 times.\n",
    "----------------------------------------------------------------------------\n",
    "Character Classes:\n",
    "\n",
    "- \\w : Matches alphanumeric characters, that is a-z, A-Z, 0–9, and underscore(_);\n",
    "- \\W : Matches non-alphanumeric characters, that is except a-z, A-Z, 0–9, and _;\n",
    "- \\d : Matches digits, from 0–9;\n",
    "- \\D : Matches any non-digits;\n",
    "- \\s : Matches whitespace characters, which also include the \\t, \\n, \\r, and space characters;\n",
    "- \\S : Matches non-whitespace characters.\n",
    "- \\n : Matches a newline character;\n",
    "- \\t : Matches a tab character;\n",
    "- \\b : Matches the word boundary (or empty string) at the start and end of a word;\n",
    "- \\B : Matches where \\b does not, that is non-word boundary.\n",
    "\n",
    "----------------------------------------------------------------------------\n",
    "Sets:\n",
    "\n",
    "- [abc] : Matches either a, b, or c. It does not match abc;\n",
    "- [a-z] : Matches any alphabet from a to z;\n",
    "- [A-Z] : Matches any alphabets in capital from A to Z;\n",
    "- [a\\-p] : Matches a, -, or p. It matches - because \\ escapes it;\n",
    "- [-z] : Matches - or z;\n",
    "- [a-z0–9] : Matches characters from a to z or from 0 to 9.\n",
    "- [(+*)] : Special characters become literal inside a set, so this matches (, +, *, or );\n",
    "- [^ab5] : Adding ^ excludes any character in the set. Here, it matches characters that are not a, b, or 5;\n",
    "----------------------------------------------------------------------------\n",
    "\n",
    "\n",
    "### Regular Expression functions\n",
    "\n",
    "#### search\n",
    "\n",
    "Search for pattern occurrences in a string using the search function of the **re module**. This function returns a match object, containing the matched substring (or None, if it doesn’t exist) and its position inside the original string."
   ]
  },
  {
   "cell_type": "code",
   "execution_count": 11,
   "metadata": {},
   "outputs": [
    {
     "name": "stdout",
     "output_type": "stream",
     "text": [
      "<re.Match object; span=(0, 1), match='I'>\n",
      "<re.Match object; span=(26, 29), match='se.'>\n",
      "<re.Match object; span=(2, 4), match='am'>\n",
      "<re.Match object; span=(3, 4), match='m'>\n",
      "None\n"
     ]
    }
   ],
   "source": [
    "import re\n",
    "\n",
    "text = 'I am enjoying the NLP course.'\n",
    "\n",
    "print(re.search(r\"I\", text))\n",
    "print(re.search(r\"se.$\", text))\n",
    "print(re.search(r\"am\", text))\n",
    "print(re.search(r\"m\", text))\n",
    "print(re.search(r\"AI\", text))"
   ]
  },
  {
   "cell_type": "code",
   "execution_count": 9,
   "metadata": {},
   "outputs": [
    {
     "name": "stdout",
     "output_type": "stream",
     "text": [
      "(0, 1)\n",
      "0\n",
      "1\n",
      "The matched pattern is:  I\n"
     ]
    }
   ],
   "source": [
    "match=re.search((r\"I\"),text)\n",
    "print(match.span())\n",
    "print(match.start())\n",
    "print(match.end())\n",
    "print(\"The matched pattern is: \",text[match.start():match.end()])"
   ]
  },
  {
   "cell_type": "markdown",
   "metadata": {},
   "source": [
    "#### match \n",
    "\n",
    "The match function is similar to search, but it only tries to match the pattern at the beginning of the target string."
   ]
  },
  {
   "cell_type": "code",
   "execution_count": 27,
   "metadata": {},
   "outputs": [
    {
     "name": "stdout",
     "output_type": "stream",
     "text": [
      "<re.Match object; span=(0, 29), match='I am enjoying the NLP course.'>\n",
      "<re.Match object; span=(0, 29), match='I am enjoying the NLP course.'>\n",
      "<re.Match object; span=(5, 29), match='enjoying the NLP course.'>\n",
      "None\n"
     ]
    }
   ],
   "source": [
    "import re\n",
    "\n",
    "text = 'I am enjoying the NLP course.'\n",
    "\n",
    "print(re.search(r\"I.*\", text)) \n",
    "print(re.match(r\"I.*\", text)) \n",
    "\n",
    "print(re.search(r\"enjoying.*\", text)) \n",
    "print(re.match(r\"enjoying.*\", text)) "
   ]
  },
  {
   "cell_type": "markdown",
   "metadata": {},
   "source": [
    "#### findall and finditer\n",
    "\n",
    "The findall and finditer functions look for all the pattern matches in the target string (whereas search and match look only for the first occurrence). The former returns a list, and the latter returns an iterator."
   ]
  },
  {
   "cell_type": "code",
   "execution_count": 36,
   "metadata": {},
   "outputs": [
    {
     "name": "stdout",
     "output_type": "stream",
     "text": [
      "['1', '2', '3']\n",
      "['2', '3']\n",
      "['1', '222', '3']\n"
     ]
    }
   ],
   "source": [
    "import re\n",
    "\n",
    "text1 = \"a 1 b 2 c 3\"\n",
    "text2 = \"a1 b 2 c 3\"\n",
    "text3 = \"a 1 b 222 c 3\"\n",
    "\n",
    "print(re.findall(r\"\\b\\d+\\b\", text1)) #match any letter or digit\n",
    "print(re.findall(r\"\\b\\d+\\b\", text2))\n",
    "print(re.findall(r\"\\b\\d+\\b\", text3))"
   ]
  },
  {
   "cell_type": "markdown",
   "metadata": {},
   "source": [
    "#### sub and subn\n",
    "\n",
    "The sub and subn functions find patterns in the target string and substitute them with another string. The sub function substitutes only the first pattern occurrence, while subn substitutes the first n occurrences.\n",
    "\n"
   ]
  },
  {
   "cell_type": "code",
   "execution_count": 40,
   "metadata": {},
   "outputs": [
    {
     "name": "stdout",
     "output_type": "stream",
     "text": [
      "I am enjoying with NLP course.\n",
      "('I-am-enjoying with Math course.', 2)\n"
     ]
    }
   ],
   "source": [
    "import re\n",
    "\n",
    "text = 'I am enjoying with Math course.'\n",
    "\n",
    "print(re.sub(r\"\\b(Math)\\b\", \"NLP\", text))\n",
    "\n",
    "print(re.subn(r\"\\b\\s\\b\", \"-\", text, count=2))"
   ]
  },
  {
   "cell_type": "markdown",
   "metadata": {},
   "source": [
    "#### compile \n",
    "\n",
    "The compile function compiles a regular expression into a regular expression object, which allows for caching and faster pattern matching."
   ]
  },
  {
   "cell_type": "code",
   "execution_count": 41,
   "metadata": {},
   "outputs": [
    {
     "name": "stdout",
     "output_type": "stream",
     "text": [
      "This year is 2022\n"
     ]
    }
   ],
   "source": [
    "import re\n",
    "\n",
    "text = \"This year is 2021\"\n",
    "pattern = re.compile(r\"\\b\\d+\\b\")\n",
    "\n",
    "print(pattern.sub(\"2022\", text))"
   ]
  },
  {
   "cell_type": "markdown",
   "metadata": {},
   "source": [
    "#### split \n",
    "\n",
    "The split function is similar to the Python split function, but splits according to regular expression patterns."
   ]
  },
  {
   "cell_type": "code",
   "execution_count": 42,
   "metadata": {},
   "outputs": [
    {
     "name": "stdout",
     "output_type": "stream",
     "text": [
      "['a ', ' b ', ' c ', '']\n"
     ]
    }
   ],
   "source": [
    "import re\n",
    "\n",
    "text = \"a 1 b 2 c 3\"\n",
    "\n",
    "print(re.split(r\"\\b\\d+\\b\", text))"
   ]
  },
  {
   "cell_type": "markdown",
   "metadata": {},
   "source": [
    "## Text pre-processing steps\n"
   ]
  },
  {
   "cell_type": "markdown",
   "metadata": {},
   "source": [
    "Text preprocessing involves transforming text into a clean and consistent format that can then be fed into a model for further analysis and learning. Raw text data might contain unwanted or unimportant text due to which our results might not give efficient accuracy, and might make it hard to understand and analyze."
   ]
  },
  {
   "cell_type": "markdown",
   "metadata": {},
   "source": [
    "**The various text preprocessing steps are:**\n",
    "\n",
    "1. Tokenization.\n",
    "2. Lower casing.\n",
    "3. Stop words removal.\n",
    "4. Stemming.\n",
    "5. Lemmatization.\n",
    "\n",
    "Before implementing the pre-processing, let us understand the concept first."
   ]
  },
  {
   "cell_type": "markdown",
   "metadata": {},
   "source": [
    "### Tokenization \n",
    "\n",
    "Tokenization is used in NLP to split paragraphs and sentences into smaller units that can be more easily assigned meaning. \n",
    "\n",
    "The first step of the NLP process is gathering the data (a sentence) and breaking it into understandable parts (words)."
   ]
  },
  {
   "attachments": {
    "1_UhfwmhMN9sdfcWIbO5_tGg.jpeg": {
     "image/jpeg": "[encoded data removed]"
    }
   },
   "cell_type": "markdown",
   "metadata": {},
   "source": [
    "![1_UhfwmhMN9sdfcWIbO5_tGg.jpeg](attachment:1_UhfwmhMN9sdfcWIbO5_tGg.jpeg)"
   ]
  },
  {
   "cell_type": "markdown",
   "metadata": {},
   "source": [
    "- **Sentance Tokenization**"
   ]
  },
  {
   "cell_type": "code",
   "execution_count": 6,
   "metadata": {},
   "outputs": [
    {
     "name": "stdout",
     "output_type": "stream",
     "text": [
      "[\"I'm enjoying the NLP course!\", 'I am also learning new concepts.']\n"
     ]
    }
   ],
   "source": [
    "import nltk\n",
    "\n",
    "text = \"I'm enjoying the NLP course! I am also learning new concepts.\"\n",
    "\n",
    "print(nltk.sent_tokenize(text))"
   ]
  },
  {
   "cell_type": "markdown",
   "metadata": {},
   "source": [
    "- **Word Tokenzitaion**"
   ]
  },
  {
   "cell_type": "code",
   "execution_count": 1,
   "metadata": {},
   "outputs": [
    {
     "data": {
      "text/plain": [
       "[\"I'm\", 'enjoying', 'the', 'NLP', 'course!']"
      ]
     },
     "execution_count": 1,
     "metadata": {},
     "output_type": "execute_result"
    }
   ],
   "source": [
    "text = \"I'm enjoying the NLP course!\"\n",
    "text.split()"
   ]
  },
  {
   "cell_type": "code",
   "execution_count": 8,
   "metadata": {},
   "outputs": [
    {
     "name": "stdout",
     "output_type": "stream",
     "text": [
      "['I', \"'m\", 'enjoying', 'the', 'NLP', 'course', '!']\n"
     ]
    }
   ],
   "source": [
    "import nltk\n",
    "\n",
    "text = \"I'm enjoying the NLP course!\"\n",
    "\n",
    "print(nltk.word_tokenize(text))"
   ]
  },
  {
   "cell_type": "code",
   "execution_count": null,
   "metadata": {},
   "outputs": [],
   "source": [
    "#!pip install -U spacy\n",
    "# !python -m spacy download en_core_web_sm"
   ]
  },
  {
   "cell_type": "code",
   "execution_count": 9,
   "metadata": {},
   "outputs": [
    {
     "name": "stdout",
     "output_type": "stream",
     "text": [
      "I\n",
      "'m\n",
      "enjoying\n",
      "the\n",
      "NLP\n",
      "course\n",
      "!\n"
     ]
    }
   ],
   "source": [
    "import spacy\n",
    "nlp = spacy.load('en_core_web_sm')\n",
    "\n",
    "doc = nlp(\"I'm enjoying the NLP course!\")\n",
    "\n",
    "for token in doc:\n",
    "    print(token)"
   ]
  },
  {
   "cell_type": "code",
   "execution_count": 11,
   "metadata": {},
   "outputs": [
    {
     "name": "stdout",
     "output_type": "stream",
     "text": [
      "nltk ['A', '5km', 'NYC', 'cab', 'ride', 'costs', '$', '10.30']\n",
      "##############################\n",
      "A\n",
      "5\n",
      "km\n",
      "NYC\n",
      "cab\n",
      "ride\n",
      "costs\n",
      "$\n",
      "10.30\n"
     ]
    }
   ],
   "source": [
    "text = \"A 5km NYC cab ride costs $10.30\"\n",
    "doc = nlp(\"A 5km NYC cab ride costs $10.30\")\n",
    "print('nltk',nltk.word_tokenize(text))\n",
    "print('##############################')\n",
    "for token in doc:\n",
    "    print(token)"
   ]
  },
  {
   "cell_type": "markdown",
   "metadata": {},
   "source": [
    "### Lower Casting"
   ]
  },
  {
   "cell_type": "markdown",
   "metadata": {},
   "source": [
    "Converting a word to lower case (NLP -> nlp). Words like Book and book mean the same but when not converted to the lower case those two are represented as two different words in the vector space model (resulting in more dimensions)."
   ]
  },
  {
   "cell_type": "code",
   "execution_count": 12,
   "metadata": {},
   "outputs": [
    {
     "data": {
      "text/plain": [
       "\"i'm enjoying the nlp course!\""
      ]
     },
     "execution_count": 12,
     "metadata": {},
     "output_type": "execute_result"
    }
   ],
   "source": [
    "text = \"I'm enjoying the NLP course!\"\n",
    "text = text.lower()\n",
    "text"
   ]
  },
  {
   "cell_type": "markdown",
   "metadata": {},
   "source": [
    "### Stemming"
   ]
  },
  {
   "cell_type": "markdown",
   "metadata": {},
   "source": [
    "Stemming is basically removing the suffix from a word and reduce it to its root word. For example: “Flying” is a word and its suffix is “ing”, if we remove “ing” from “Flying” then we will get base word or root word which is “Fly”. We uses these suffix to create a new word from original stem word."
   ]
  },
  {
   "cell_type": "markdown",
   "metadata": {},
   "source": [
    "https://www.nltk.org/howto/stem.html"
   ]
  },
  {
   "attachments": {
    "1.jpg": {
     "image/jpeg": "[encoded data removed]"
    }
   },
   "cell_type": "markdown",
   "metadata": {},
   "source": [
    "![1.jpg](attachment:1.jpg)"
   ]
  },
  {
   "cell_type": "markdown",
   "metadata": {},
   "source": [
    "#### What is PorterStemmer?\n",
    "\n",
    "It is one of the most popular stemming methods proposed in 1980. It is based on the idea that the suffixes in the English language are made up of a combination of smaller and simpler suffixes. This stemmer is known for its speed and simplicity. The main applications of Porter Stemmer include data mining and Information retrieval. However, its applications are only limited to English words. Also, the group of stems is mapped on to the same stem and the output stem is not necessarily a meaningful word. The algorithms are fairly lengthy in nature and are known to be the oldest stemmer.\n",
    "\n",
    "> Advantage: It produces the best output as compared to other stemmers and it has less error rate.\n",
    "\n",
    "> Limitation:  Morphological variants produced are not always real words."
   ]
  },
  {
   "cell_type": "code",
   "execution_count": 15,
   "metadata": {},
   "outputs": [
    {
     "name": "stdout",
     "output_type": "stream",
     "text": [
      "run --> run\n",
      "runner --> runner\n",
      "running --> run\n",
      "ran --> ran\n",
      "runs --> run\n",
      "easily --> easili\n",
      "fairly --> fairli\n"
     ]
    }
   ],
   "source": [
    "import nltk\n",
    "from nltk.stem import PorterStemmer\n",
    "\n",
    "ps = PorterStemmer()\n",
    "\n",
    "words = ['run','runner','running','ran','runs','easily','fairly']\n",
    "\n",
    "for word in words:\n",
    "    print(word+' --> '+ps.stem(word))"
   ]
  },
  {
   "cell_type": "markdown",
   "metadata": {},
   "source": [
    "#### What is SnowballStemmer?\n",
    "\n",
    "It is a stemming algorithm which is also known as the Porter2 stemming algorithm as it is a better version of the Porter Stemmer since some issues of it were fixed in this stemmer.\n",
    "\n",
    "> Advantage: It is slightly faster computation time than porter, with a reasonably large community around it."
   ]
  },
  {
   "cell_type": "code",
   "execution_count": 17,
   "metadata": {},
   "outputs": [
    {
     "name": "stdout",
     "output_type": "stream",
     "text": [
      "run --> run\n",
      "runner --> runner\n",
      "running --> run\n",
      "ran --> ran\n",
      "runs --> run\n",
      "easily --> easili\n",
      "fairly --> fair\n"
     ]
    }
   ],
   "source": [
    "import nltk\n",
    "from nltk.stem.snowball import SnowballStemmer\n",
    "\n",
    "sn = SnowballStemmer(language='english')\n",
    "\n",
    "words = ['run','runner','running','ran','runs','easily','fairly']\n",
    "\n",
    "for word in words:\n",
    "    print(word+' --> '+sn.stem(word))"
   ]
  },
  {
   "cell_type": "markdown",
   "metadata": {},
   "source": [
    "#### Comparing between porter and snowball"
   ]
  },
  {
   "cell_type": "code",
   "execution_count": 18,
   "metadata": {},
   "outputs": [
    {
     "name": "stdout",
     "output_type": "stream",
     "text": [
      "generous --> gener\n",
      "generous --> generous\n",
      "---------------------------------------\n",
      "generation --> gener\n",
      "generation --> generat\n",
      "---------------------------------------\n",
      "generously --> gener\n",
      "generously --> generous\n",
      "---------------------------------------\n",
      "generate --> gener\n",
      "generate --> generat\n",
      "---------------------------------------\n"
     ]
    }
   ],
   "source": [
    "words = ['generous','generation','generously','generate']\n",
    "\n",
    "for word in words:\n",
    "    print(word+' --> '+ps.stem(word))\n",
    "    print(word+' --> '+sn.stem(word))\n",
    "    print('---------------------------------------')"
   ]
  },
  {
   "cell_type": "markdown",
   "metadata": {},
   "source": [
    "**Note**: Spacy does not provide stemming"
   ]
  },
  {
   "cell_type": "markdown",
   "metadata": {},
   "source": [
    "### Lemmatization "
   ]
  },
  {
   "cell_type": "markdown",
   "metadata": {},
   "source": [
    "Lemmatization is the process of grouping together the different inflected forms of a word so they can be analyzed as a single item. Lemmatization is similar to stemming but it brings context to the words. So it links words with similar meanings to one word. \n",
    "\n",
    "> One major difference with stemming is that lemmatize takes a part of speech parameter, “pos” If not supplied, the default is “noun.”"
   ]
  },
  {
   "attachments": {
    "61cabe3ac8046f4ca17b01d5_lemmatization.jpeg": {
     "image/jpeg": "[encoded data removed]"
    }
   },
   "cell_type": "markdown",
   "metadata": {},
   "source": [
    "![61cabe3ac8046f4ca17b01d5_lemmatization.jpeg](attachment:61cabe3ac8046f4ca17b01d5_lemmatization.jpeg)"
   ]
  },
  {
   "cell_type": "code",
   "execution_count": 48,
   "metadata": {},
   "outputs": [
    {
     "name": "stdout",
     "output_type": "stream",
     "text": [
      "I:  I\n",
      "am:  am\n",
      "enjoying:  enjoying\n",
      "with:  with\n",
      "AI:  AI\n",
      "courses:  course\n",
      ".:  .\n",
      "Dr.Adam:  Dr.Adam\n",
      "is:  is\n",
      "teaching:  teaching\n",
      "me:  me\n",
      "two:  two\n",
      "courses:  course\n",
      ".:  .\n"
     ]
    }
   ],
   "source": [
    "import nltk\n",
    "from nltk.stem import WordNetLemmatizer\n",
    "\n",
    "text = 'I am enjoying with AI courses. Dr.Adam is teaching me two courses.'\n",
    "lemmatizer = WordNetLemmatizer()\n",
    "\n",
    "for word in nltk.word_tokenize(text):\n",
    "    print(f\"{word}: \", lemmatizer.lemmatize(word))"
   ]
  },
  {
   "cell_type": "markdown",
   "metadata": {},
   "source": [
    "You may go through Spacy's lemmatizer: https://spacy.io/api/lemmatizer"
   ]
  },
  {
   "cell_type": "markdown",
   "metadata": {},
   "source": [
    "### ٍStop Words Removal"
   ]
  },
  {
   "cell_type": "markdown",
   "metadata": {},
   "source": [
    "The words which are generally filtered out before processing a natural language are called stop words. These are actually the most common words in any language (like articles, prepositions, pronouns, conjunctions, etc) and does not add much information to the text. Examples of a few stop words in English are “the”, “a”, “an”, “so”, “what”."
   ]
  },
  {
   "cell_type": "markdown",
   "metadata": {},
   "source": [
    "#### Why do we need to remove stopwords?"
   ]
  },
  {
   "cell_type": "markdown",
   "metadata": {},
   "source": [
    "By removing these words, we remove the low-level information from our text in order to give more focus to the important information. In order words, we can say that the removal of such words does not show any negative consequences on the model we train for our task.\n",
    "\n",
    "- reduces the dataset size\n",
    "- reduces the training time"
   ]
  },
  {
   "cell_type": "markdown",
   "metadata": {},
   "source": [
    "#### Do we always remove stopwords? **NO!**"
   ]
  },
  {
   "cell_type": "markdown",
   "metadata": {},
   "source": [
    "We do not always remove the stop words. The removal of stop words is highly dependent on the task we are performing and the goal we want to achieve. For example, if we are training a model that can perform the sentiment analysis task, we might not remove the stop words.\n",
    "\n",
    "Movie review: “The movie was not good at all.”\n",
    "\n",
    "Text after removal of stop words: “movie good”"
   ]
  },
  {
   "cell_type": "code",
   "execution_count": 24,
   "metadata": {},
   "outputs": [],
   "source": [
    "import spacy\n",
    "nlp = spacy.load('en_core_web_sm')"
   ]
  },
  {
   "cell_type": "code",
   "execution_count": 25,
   "metadata": {},
   "outputs": [
    {
     "name": "stdout",
     "output_type": "stream",
     "text": [
      "{'few', 'once', 'whence', 'them', 'been', 'seemed', 'him', 'which', 'front', 'myself', 'we', 'otherwise', 'formerly', 'down', 'whether', 'has', 'say', 'to', 'his', 'across', 'anyway', 'no', 'everyone', 'throughout', '‘ll', 'therein', 'for', 'sometimes', 'else', 'latterly', 'nowhere', 'together', 'first', 'above', 'becoming', 'less', \"'ll\", '‘d', 'everything', 'out', 'there', 'various', 'via', 'our', 'before', 'go', 'it', 'fifty', 'third', 'were', 'former', 'made', 'as', 'eleven', 'toward', 'mine', \"'m\", 'then', 'except', 'whereas', 'now', 'but', 'becomes', 'alone', 'more', 'although', 'get', 'three', 'nevertheless', 'ten', 'without', 'yours', 'thereupon', 'on', 'all', 'whom', 'mostly', 'than', 'sometime', 'had', 'call', 'yourself', 'she', 'between', 'why', 'of', 'much', 'side', 'yet', 'give', 'some', 'until', 'somewhere', 'may', 'after', 'move', 'among', 'doing', 'nobody', 'rather', 'towards', 'twenty', 'however', 'beyond', '’m', 'same', 'each', 'the', 'whole', 'make', 'have', 'nor', 'onto', 'n‘t', 'whose', 'off', 'five', 'along', 'while', 'hundred', 'again', 'they', 'around', 'both', 'he', 'themselves', 'really', 'done', 'that', 'elsewhere', \"'d\", 'noone', 'an', 'never', 'thereby', 'must', '‘m', 'over', 'your', 'meanwhile', 'whenever', 'be', 'about', 'into', 'is', '’ve', 'whither', 'herein', 'several', 'ever', 'namely', 'whereafter', 'quite', 'most', 'being', 'last', 'where', 'in', 'its', 'please', 'by', '‘ve', 'did', 'whereupon', 'afterwards', 'fifteen', 'somehow', 'when', 'very', 'these', 'other', 'even', 'bottom', 're', 'moreover', 'wherein', 'many', 'hereupon', 'you', 'further', 'up', 'per', 'regarding', 'cannot', 'would', 'are', '’re', 'twelve', 'anything', 'could', 'everywhere', 'using', 'not', 'against', 'always', 'take', 'though', 'seems', 'perhaps', 'back', 'due', 'do', '‘re', 'own', '’d', 'often', 'beside', 'nothing', 'during', 'hereby', 'whoever', 'since', 'those', 'thence', 'yourselves', 'used', 'full', 'show', 'can', 'so', 'was', 'therefore', 'any', 'ours', 'below', 'who', 'me', 'least', 'here', 'anyhow', 'nine', 'next', 'wherever', 'empty', 'within', 'eight', \"'s\", 'or', 'from', 'whatever', 'anyone', \"'ve\", \"n't\", 'either', 'four', 'how', 'their', 'put', 'too', 'every', 'whereby', 'still', '‘s', 'amongst', 'forty', 'one', 'my', 'am', 'only', 'well', 'become', 'because', 'none', 'see', 'seeming', 'thereafter', 'amount', 'someone', 'just', 'part', 'at', 'behind', 'this', 'others', 'through', 'unless', 'hence', 'upon', 'latter', 'already', 'two', 'anywhere', 'under', 'six', 'enough', 'became', 'us', 'besides', 'i', 'with', 'almost', 'beforehand', 'might', 'sixty', 'thus', 'seem', 'should', 'will', 'hers', 'what', 'serious', 'btw', 'name', 'herself', 'himself', 'another', '’ll', 'itself', 'hereafter', 'n’t', '’s', 'thru', 'such', 'indeed', 'keep', 'and', 'top', 'ourselves', 'if', \"'re\", 'ca', 'does', 'also', 'something', 'her', 'a', 'neither'}\n"
     ]
    }
   ],
   "source": [
    "print(nlp.Defaults.stop_words)\n"
   ]
  },
  {
   "cell_type": "code",
   "execution_count": 26,
   "metadata": {},
   "outputs": [
    {
     "name": "stdout",
     "output_type": "stream",
     "text": [
      "True\n",
      "False\n"
     ]
    }
   ],
   "source": [
    "print(nlp.vocab['myself'].is_stop)\n",
    "print(nlp.vocab['mystery'].is_stop)"
   ]
  },
  {
   "cell_type": "code",
   "execution_count": 27,
   "metadata": {},
   "outputs": [
    {
     "name": "stdout",
     "output_type": "stream",
     "text": [
      "True\n",
      "True\n"
     ]
    }
   ],
   "source": [
    "nlp.Defaults.stop_words.add('btw')\n",
    "print (nlp.vocab['btw'].is_stop)"
   ]
  },
  {
   "cell_type": "code",
   "execution_count": 28,
   "metadata": {},
   "outputs": [],
   "source": [
    "nlp.Defaults.stop_words.remove('beyond')\n",
    "nlp.vocab['beyond'].is_stop = False"
   ]
  },
  {
   "cell_type": "code",
   "execution_count": 29,
   "metadata": {},
   "outputs": [
    {
     "name": "stderr",
     "output_type": "stream",
     "text": [
      "[nltk_data] Downloading package stopwords to\n",
      "[nltk_data]     C:\\Users\\HP\\AppData\\Roaming\\nltk_data...\n",
      "[nltk_data]   Unzipping corpora\\stopwords.zip.\n"
     ]
    },
    {
     "data": {
      "text/plain": [
       "True"
      ]
     },
     "execution_count": 29,
     "metadata": {},
     "output_type": "execute_result"
    }
   ],
   "source": [
    "import nltk\n",
    "nltk.download('stopwords')"
   ]
  },
  {
   "cell_type": "code",
   "execution_count": 31,
   "metadata": {},
   "outputs": [
    {
     "name": "stdout",
     "output_type": "stream",
     "text": [
      "179\n"
     ]
    },
    {
     "data": {
      "text/plain": [
       "{'a',\n",
       " 'about',\n",
       " 'above',\n",
       " 'after',\n",
       " 'again',\n",
       " 'against',\n",
       " 'ain',\n",
       " 'all',\n",
       " 'am',\n",
       " 'an',\n",
       " 'and',\n",
       " 'any',\n",
       " 'are',\n",
       " 'aren',\n",
       " \"aren't\",\n",
       " 'as',\n",
       " 'at',\n",
       " 'be',\n",
       " 'because',\n",
       " 'been',\n",
       " 'before',\n",
       " 'being',\n",
       " 'below',\n",
       " 'between',\n",
       " 'both',\n",
       " 'but',\n",
       " 'by',\n",
       " 'can',\n",
       " 'couldn',\n",
       " \"couldn't\",\n",
       " 'd',\n",
       " 'did',\n",
       " 'didn',\n",
       " \"didn't\",\n",
       " 'do',\n",
       " 'does',\n",
       " 'doesn',\n",
       " \"doesn't\",\n",
       " 'doing',\n",
       " 'don',\n",
       " \"don't\",\n",
       " 'down',\n",
       " 'during',\n",
       " 'each',\n",
       " 'few',\n",
       " 'for',\n",
       " 'from',\n",
       " 'further',\n",
       " 'had',\n",
       " 'hadn',\n",
       " \"hadn't\",\n",
       " 'has',\n",
       " 'hasn',\n",
       " \"hasn't\",\n",
       " 'have',\n",
       " 'haven',\n",
       " \"haven't\",\n",
       " 'having',\n",
       " 'he',\n",
       " 'her',\n",
       " 'here',\n",
       " 'hers',\n",
       " 'herself',\n",
       " 'him',\n",
       " 'himself',\n",
       " 'his',\n",
       " 'how',\n",
       " 'i',\n",
       " 'if',\n",
       " 'in',\n",
       " 'into',\n",
       " 'is',\n",
       " 'isn',\n",
       " \"isn't\",\n",
       " 'it',\n",
       " \"it's\",\n",
       " 'its',\n",
       " 'itself',\n",
       " 'just',\n",
       " 'll',\n",
       " 'm',\n",
       " 'ma',\n",
       " 'me',\n",
       " 'mightn',\n",
       " \"mightn't\",\n",
       " 'more',\n",
       " 'most',\n",
       " 'mustn',\n",
       " \"mustn't\",\n",
       " 'my',\n",
       " 'myself',\n",
       " 'needn',\n",
       " \"needn't\",\n",
       " 'no',\n",
       " 'nor',\n",
       " 'not',\n",
       " 'now',\n",
       " 'o',\n",
       " 'of',\n",
       " 'off',\n",
       " 'on',\n",
       " 'once',\n",
       " 'only',\n",
       " 'or',\n",
       " 'other',\n",
       " 'our',\n",
       " 'ours',\n",
       " 'ourselves',\n",
       " 'out',\n",
       " 'over',\n",
       " 'own',\n",
       " 're',\n",
       " 's',\n",
       " 'same',\n",
       " 'shan',\n",
       " \"shan't\",\n",
       " 'she',\n",
       " \"she's\",\n",
       " 'should',\n",
       " \"should've\",\n",
       " 'shouldn',\n",
       " \"shouldn't\",\n",
       " 'so',\n",
       " 'some',\n",
       " 'such',\n",
       " 't',\n",
       " 'than',\n",
       " 'that',\n",
       " \"that'll\",\n",
       " 'the',\n",
       " 'their',\n",
       " 'theirs',\n",
       " 'them',\n",
       " 'themselves',\n",
       " 'then',\n",
       " 'there',\n",
       " 'these',\n",
       " 'they',\n",
       " 'this',\n",
       " 'those',\n",
       " 'through',\n",
       " 'to',\n",
       " 'too',\n",
       " 'under',\n",
       " 'until',\n",
       " 'up',\n",
       " 've',\n",
       " 'very',\n",
       " 'was',\n",
       " 'wasn',\n",
       " \"wasn't\",\n",
       " 'we',\n",
       " 'were',\n",
       " 'weren',\n",
       " \"weren't\",\n",
       " 'what',\n",
       " 'when',\n",
       " 'where',\n",
       " 'which',\n",
       " 'while',\n",
       " 'who',\n",
       " 'whom',\n",
       " 'why',\n",
       " 'will',\n",
       " 'with',\n",
       " 'won',\n",
       " \"won't\",\n",
       " 'wouldn',\n",
       " \"wouldn't\",\n",
       " 'y',\n",
       " 'you',\n",
       " \"you'd\",\n",
       " \"you'll\",\n",
       " \"you're\",\n",
       " \"you've\",\n",
       " 'your',\n",
       " 'yours',\n",
       " 'yourself',\n",
       " 'yourselves'}"
      ]
     },
     "execution_count": 31,
     "metadata": {},
     "output_type": "execute_result"
    }
   ],
   "source": [
    "from nltk.corpus import stopwords\n",
    "\n",
    "stop_words = set(stopwords.words('english'))\n",
    "print(len(stop_words))\n",
    "stop_words"
   ]
  },
  {
   "cell_type": "markdown",
   "metadata": {},
   "source": [
    "**Can you search for arabic stopwords in ntlk?**"
   ]
  },
  {
   "cell_type": "markdown",
   "metadata": {},
   "source": [
    "# Text pre-processing Example"
   ]
  },
  {
   "cell_type": "markdown",
   "metadata": {},
   "source": [
    "To make you understand better about the need of text pre-processing. We will do a small project. In this project, I need to find how many hashtags and the top 10 hashtags used in the dataset.\n",
    "\n",
    "The dataset is about people tweets about apple company in the twitter. You can find the dataset here: https://www.kaggle.com/datasets/seriousran/appletwittersentimenttexts\n",
    "\n",
    "Output labels:\n",
    "\n",
    "- -1: negative \n",
    "- 0: neutral \n",
    "- 1: positive\n"
   ]
  },
  {
   "cell_type": "code",
   "execution_count": 133,
   "metadata": {},
   "outputs": [],
   "source": [
    "import pandas as pd\n",
    "import nltk\n",
    "import re\n",
    "import matplotlib.pyplot as plt\n",
    "import numpy as np\n",
    "\n",
    "%matplotlib inline"
   ]
  },
  {
   "cell_type": "code",
   "execution_count": 51,
   "metadata": {},
   "outputs": [],
   "source": [
    "df = pd.read_csv('datasets/apple-twitter-sentiment-texts.csv')"
   ]
  },
  {
   "cell_type": "code",
   "execution_count": 52,
   "metadata": {
    "scrolled": true
   },
   "outputs": [
    {
     "data": {
      "text/html": [
       "<div>\n",
       "<style scoped>\n",
       "    .dataframe tbody tr th:only-of-type {\n",
       "        vertical-align: middle;\n",
       "    }\n",
       "\n",
       "    .dataframe tbody tr th {\n",
       "        vertical-align: top;\n",
       "    }\n",
       "\n",
       "    .dataframe thead th {\n",
       "        text-align: right;\n",
       "    }\n",
       "</style>\n",
       "<table border=\"1\" class=\"dataframe\">\n",
       "  <thead>\n",
       "    <tr style=\"text-align: right;\">\n",
       "      <th></th>\n",
       "      <th>text</th>\n",
       "      <th>sentiment</th>\n",
       "    </tr>\n",
       "  </thead>\n",
       "  <tbody>\n",
       "    <tr>\n",
       "      <th>0</th>\n",
       "      <td>Wow. Yall needa step it up @Apple RT @heynyla:...</td>\n",
       "      <td>-1</td>\n",
       "    </tr>\n",
       "    <tr>\n",
       "      <th>1</th>\n",
       "      <td>What Happened To Apple Inc?   http://t.co/FJEX...</td>\n",
       "      <td>0</td>\n",
       "    </tr>\n",
       "    <tr>\n",
       "      <th>2</th>\n",
       "      <td>Thank u @apple I can now compile all of the pi...</td>\n",
       "      <td>1</td>\n",
       "    </tr>\n",
       "    <tr>\n",
       "      <th>3</th>\n",
       "      <td>The oddly uplifting story of the Apple co-foun...</td>\n",
       "      <td>0</td>\n",
       "    </tr>\n",
       "    <tr>\n",
       "      <th>4</th>\n",
       "      <td>@apple can i exchange my iphone for a differen...</td>\n",
       "      <td>0</td>\n",
       "    </tr>\n",
       "  </tbody>\n",
       "</table>\n",
       "</div>"
      ],
      "text/plain": [
       "                                                text  sentiment\n",
       "0  Wow. Yall needa step it up @Apple RT @heynyla:...         -1\n",
       "1  What Happened To Apple Inc?   http://t.co/FJEX...          0\n",
       "2  Thank u @apple I can now compile all of the pi...          1\n",
       "3  The oddly uplifting story of the Apple co-foun...          0\n",
       "4  @apple can i exchange my iphone for a differen...          0"
      ]
     },
     "execution_count": 52,
     "metadata": {},
     "output_type": "execute_result"
    }
   ],
   "source": [
    "df.head()"
   ]
  },
  {
   "cell_type": "code",
   "execution_count": 111,
   "metadata": {},
   "outputs": [
    {
     "name": "stdout",
     "output_type": "stream",
     "text": [
      "<class 'pandas.core.frame.DataFrame'>\n",
      "RangeIndex: 1630 entries, 0 to 1629\n",
      "Data columns (total 2 columns):\n",
      " #   Column     Non-Null Count  Dtype \n",
      "---  ------     --------------  ----- \n",
      " 0   text       1630 non-null   object\n",
      " 1   sentiment  1630 non-null   int64 \n",
      "dtypes: int64(1), object(1)\n",
      "memory usage: 25.6+ KB\n"
     ]
    }
   ],
   "source": [
    "df.info()"
   ]
  },
  {
   "cell_type": "code",
   "execution_count": 112,
   "metadata": {},
   "outputs": [],
   "source": [
    "def find_hashtags(text):\n",
    "    pattern = re.compile(r\"(#\\w+)\")\n",
    "    hashtags = pattern.findall(text)\n",
    "    return hashtags"
   ]
  },
  {
   "cell_type": "code",
   "execution_count": 120,
   "metadata": {},
   "outputs": [],
   "source": [
    "df[\"hashtags\"] = df['text'].apply(find_hashtags)"
   ]
  },
  {
   "cell_type": "code",
   "execution_count": 123,
   "metadata": {},
   "outputs": [
    {
     "data": {
      "text/plain": [
       "0                    [#Note4]\n",
       "1             [#aapl, #apple]\n",
       "2                          []\n",
       "3                     [#aapl]\n",
       "4                          []\n",
       "                ...          \n",
       "1625                       []\n",
       "1626                       []\n",
       "1627                       []\n",
       "1628    [#WizKid, #Hollywood]\n",
       "1629                  [#aapl]\n",
       "Name: hashtags, Length: 1630, dtype: object"
      ]
     },
     "execution_count": 123,
     "metadata": {},
     "output_type": "execute_result"
    }
   ],
   "source": [
    "df['hashtags']"
   ]
  },
  {
   "cell_type": "code",
   "execution_count": 121,
   "metadata": {},
   "outputs": [
    {
     "data": {
      "text/plain": [
       "'Wow. Yall needa step it up @Apple RT @heynyla: Music and snapchat at the same damn time. Thank you #Note4'"
      ]
     },
     "execution_count": 121,
     "metadata": {},
     "output_type": "execute_result"
    }
   ],
   "source": [
    "df['text'][0]"
   ]
  },
  {
   "cell_type": "code",
   "execution_count": 122,
   "metadata": {},
   "outputs": [
    {
     "data": {
      "text/plain": [
       "'What Happened To Apple Inc?   http://t.co/FJEXI3oP0U  #aapl #apple @MoneyPress http://t.co/wXKmmTMArW'"
      ]
     },
     "execution_count": 122,
     "metadata": {},
     "output_type": "execute_result"
    }
   ],
   "source": [
    "df['text'][1]"
   ]
  },
  {
   "cell_type": "code",
   "execution_count": 184,
   "metadata": {},
   "outputs": [],
   "source": [
    "hashtags = df['hashtags'].tolist()"
   ]
  },
  {
   "cell_type": "code",
   "execution_count": 185,
   "metadata": {
    "scrolled": true
   },
   "outputs": [
    {
     "data": {
      "text/plain": [
       "['#Note4',\n",
       " '#aapl',\n",
       " '#apple',\n",
       " '#aapl',\n",
       " '#aapl',\n",
       " '#AAPL',\n",
       " '#iPhone6Plus',\n",
       " '#aapl',\n",
       " '#Apple',\n",
       " '#Skyworks',\n",
       " '#SWKS',\n",
       " '#AAPL',\n",
       " '#BRCM',\n",
       " '#MU',\n",
       " '#QCOM',\n",
       " '#VTI',\n",
       " '#aapl',\n",
       " '#Apple',\n",
       " '#AAPL',\n",
       " '#BeatsElectronics',\n",
       " '#Wireless',\n",
       " '#Apple',\n",
       " '#aapl',\n",
       " '#AAPL',\n",
       " '#iFail',\n",
       " '#AAPL',\n",
       " '#Apple',\n",
       " '#aapl',\n",
       " '#Apple',\n",
       " '#Apple',\n",
       " '#iPhone',\n",
       " '#aapl',\n",
       " '#Apple',\n",
       " '#aapl',\n",
       " '#macos',\n",
       " '#yosemite',\n",
       " '#windows8',\n",
       " '#AAPL',\n",
       " '#AAPL',\n",
       " '#CIO',\n",
       " '#iWatch',\n",
       " '#aapl',\n",
       " '#Apple',\n",
       " '#AAPL',\n",
       " '#AAPL',\n",
       " '#aapl',\n",
       " '#Nasdaq',\n",
       " '#android',\n",
       " '#ios',\n",
       " '#samsung',\n",
       " '#aapl',\n",
       " '#ApplePay',\n",
       " '#apple',\n",
       " '#GoodMore',\n",
       " '#GivingTuesday',\n",
       " '#StonerSports',\n",
       " '#3YearsOf5SOS',\n",
       " '#FlashvsArrow',\n",
       " '#stocks',\n",
       " '#aapl',\n",
       " '#Google',\n",
       " '#IPad',\n",
       " '#aapl',\n",
       " '#Will',\n",
       " '#IPhone6Plus',\n",
       " '#Apple',\n",
       " '#Monday',\n",
       " '#December',\n",
       " '#AAPL',\n",
       " '#GamerGate',\n",
       " '#64megaherts',\n",
       " '#AAPL',\n",
       " '#YosemiteProblems',\n",
       " '#apple',\n",
       " '#AAPL',\n",
       " '#AAPL',\n",
       " '#AAPL',\n",
       " '#Apple',\n",
       " '#Stocks',\n",
       " '#Record',\n",
       " '#News',\n",
       " '#iOS8',\n",
       " '#aapl',\n",
       " '#aapl',\n",
       " '#AAPL',\n",
       " '#AAPL',\n",
       " '#AAPL',\n",
       " '#Long',\n",
       " '#YosemiteProblems',\n",
       " '#AAPL',\n",
       " '#Tech',\n",
       " '#goog',\n",
       " '#aapl',\n",
       " '#fb',\n",
       " '#AAPL',\n",
       " '#PinkScreenOfDeath',\n",
       " '#aapl',\n",
       " '#Mac',\n",
       " '#PC',\n",
       " '#apple',\n",
       " '#AAPL',\n",
       " '#ipad',\n",
       " '#irig',\n",
       " '#ripoff',\n",
       " '#yosemite',\n",
       " '#bugs',\n",
       " '#AAPL',\n",
       " '#ThisIsWhyPeopleGetMurdered',\n",
       " '#aapl',\n",
       " '#Apple',\n",
       " '#aapl',\n",
       " '#AAPL',\n",
       " '#LGBT',\n",
       " '#Gayrights',\n",
       " '#Alabama',\n",
       " '#Apple',\n",
       " '#AAPL',\n",
       " '#Apple',\n",
       " '#AAPL',\n",
       " '#Apple',\n",
       " '#AAPL',\n",
       " '#WWDC',\n",
       " '#AppleCordFire',\n",
       " '#SteveJobs',\n",
       " '#apple',\n",
       " '#aapl',\n",
       " '#tech30',\n",
       " '#TL_Chat',\n",
       " '#apple',\n",
       " '#AAPL',\n",
       " '#GoPro',\n",
       " '#Apple',\n",
       " '#gpro',\n",
       " '#aapl',\n",
       " '#mp15',\n",
       " '#iPhone6',\n",
       " '#aapl',\n",
       " '#Howto',\n",
       " '#Apple',\n",
       " '#AAPL',\n",
       " '#JimmyIovine',\n",
       " '#AAPL',\n",
       " '#aapl',\n",
       " '#AppleSnob',\n",
       " '#Apple',\n",
       " '#Google',\n",
       " '#Alibaba',\n",
       " '#baba',\n",
       " '#goog',\n",
       " '#aapl',\n",
       " '#ComputerHistory',\n",
       " '#BethesdaRow',\n",
       " '#AAPL',\n",
       " '#blunderblock',\n",
       " '#Fashion',\n",
       " '#shame',\n",
       " '#fail',\n",
       " '#icloud',\n",
       " '#sucking',\n",
       " '#Apple',\n",
       " '#aapl',\n",
       " '#AAPL',\n",
       " '#AAPL',\n",
       " '#aapl',\n",
       " '#aapl',\n",
       " '#brokenchargerprobs',\n",
       " '#Verr',\n",
       " '#Ger',\n",
       " '#iPhone6s',\n",
       " '#Apple',\n",
       " '#Tuesday',\n",
       " '#December',\n",
       " '#AAPL',\n",
       " '#aapl',\n",
       " '#Stockaction',\n",
       " '#trading',\n",
       " '#Stocks',\n",
       " '#MKt',\n",
       " '#AAPL',\n",
       " '#GOOG',\n",
       " '#GOOGL',\n",
       " '#TSLA',\n",
       " '#WMT',\n",
       " '#PreMarket',\n",
       " '#Markets',\n",
       " '#FTDaily',\n",
       " '#FashionTech',\n",
       " '#applenews',\n",
       " '#iwatch',\n",
       " '#gadgets',\n",
       " '#aapl',\n",
       " '#apple',\n",
       " '#deletegame',\n",
       " '#DieIn',\n",
       " '#livingthedream',\n",
       " '#aapl',\n",
       " '#IOS',\n",
       " '#iPhone',\n",
       " '#AAPL',\n",
       " '#Apple',\n",
       " '#Patents',\n",
       " '#iPhone',\n",
       " '#Tuesday',\n",
       " '#December',\n",
       " '#Trading',\n",
       " '#stocks',\n",
       " '#futures',\n",
       " '#forex',\n",
       " '#trader',\n",
       " '#es',\n",
       " '#aapl',\n",
       " '#gpro',\n",
       " '#eSignal',\n",
       " '#aapl',\n",
       " '#Holiday',\n",
       " '#Giveaway',\n",
       " '#defective',\n",
       " '#sponsorDeal',\n",
       " '#MiniHeartAttack',\n",
       " '#iPhone',\n",
       " '#5starservice',\n",
       " '#BostonHoliday',\n",
       " '#UrbanNutcracker',\n",
       " '#krumpers',\n",
       " '#iPhone',\n",
       " '#shame',\n",
       " '#CreditCare',\n",
       " '#WhatYearIsIt',\n",
       " '#poorcustomerservice',\n",
       " '#aapl',\n",
       " '#parable',\n",
       " '#AppStore',\n",
       " '#Mac',\n",
       " '#PC',\n",
       " '#apple',\n",
       " '#AAPL',\n",
       " '#iOS',\n",
       " '#1',\n",
       " '#infiniteflight',\n",
       " '#aapl',\n",
       " '#AAPL',\n",
       " '#Holiday',\n",
       " '#Giveaway',\n",
       " '#Apple',\n",
       " '#AAPL',\n",
       " '#Tokyo',\n",
       " '#brooklyn',\n",
       " '#Wozniak',\n",
       " '#Jobs',\n",
       " '#Apple',\n",
       " '#aapl',\n",
       " '#disgusting',\n",
       " '#Sydney',\n",
       " '#aapl',\n",
       " '#aapl',\n",
       " '#HourOfCode',\n",
       " '#mkt',\n",
       " '#AAPL',\n",
       " '#PutCallRatios',\n",
       " '#applestorecoventgarden',\n",
       " '#aapl',\n",
       " '#AAPL',\n",
       " '#SupplyChain',\n",
       " '#Operations',\n",
       " '#Apple',\n",
       " '#Facebook',\n",
       " '#fb',\n",
       " '#aapl',\n",
       " '#Wozniak',\n",
       " '#SteveJobs',\n",
       " '#aapl',\n",
       " '#iPod',\n",
       " '#MusicBiz',\n",
       " '#MusicIndustry',\n",
       " '#Apple',\n",
       " '#NYC',\n",
       " '#EricGarner',\n",
       " '#BlackLivesMatters',\n",
       " '#ShutItDown',\n",
       " '#AAPL',\n",
       " '#Winnipeg',\n",
       " '#Apple',\n",
       " '#aapl',\n",
       " '#aapl',\n",
       " '#Swift',\n",
       " '#XCode',\n",
       " '#JustSayin',\n",
       " '#iTunes',\n",
       " '#Yosemite',\n",
       " '#Mavericks',\n",
       " '#tech',\n",
       " '#dontask',\n",
       " '#internet',\n",
       " '#DIY',\n",
       " '#airmilesshops',\n",
       " '#Verizon',\n",
       " '#FIOS',\n",
       " '#Yosemite',\n",
       " '#YosemiteProblems',\n",
       " '#Russia',\n",
       " '#SteveJobs',\n",
       " '#tribute',\n",
       " '#statue',\n",
       " '#Apple',\n",
       " '#AAPL',\n",
       " '#iPhone',\n",
       " '#memorial',\n",
       " '#bastards',\n",
       " '#OnlineFootprint',\n",
       " '#ModicumOfPrudence',\n",
       " '#AppleCordFire',\n",
       " '#Apple',\n",
       " '#aapl',\n",
       " '#badservice',\n",
       " '#Apple',\n",
       " '#AppleSantaMonica',\n",
       " '#Winter',\n",
       " '#Winnipeg',\n",
       " '#AAPL',\n",
       " '#aapl',\n",
       " '#aapl',\n",
       " '#iPhone6',\n",
       " '#Apple',\n",
       " '#aapl',\n",
       " '#iPhone',\n",
       " '#AAPL',\n",
       " '#iTunes',\n",
       " '#antitrust',\n",
       " '#Yosemite',\n",
       " '#sad',\n",
       " '#New',\n",
       " '#Apple',\n",
       " '#iPhone',\n",
       " '#one',\n",
       " '#Sunday',\n",
       " '#December',\n",
       " '#AAPL',\n",
       " '#aapl',\n",
       " '#iPhone6',\n",
       " '#Apple',\n",
       " '#Thursday',\n",
       " '#December',\n",
       " '#aapl',\n",
       " '#vod',\n",
       " '#streaming',\n",
       " '#AppleTV',\n",
       " '#aapl',\n",
       " '#AAPL',\n",
       " '#aapl',\n",
       " '#education',\n",
       " '#Apple',\n",
       " '#Loop',\n",
       " '#iPhone6S',\n",
       " '#Steve',\n",
       " '#Saturday',\n",
       " '#December',\n",
       " '#Verr',\n",
       " '#Ger',\n",
       " '#iPhone6s',\n",
       " '#Apple',\n",
       " '#Wednesday',\n",
       " '#December',\n",
       " '#yosemite',\n",
       " '#WORST',\n",
       " '#cantgoback',\n",
       " '#misssnowleopard',\n",
       " '#whathappened',\n",
       " '#AppStore2014',\n",
       " '#FTDaily',\n",
       " '#FashionTech',\n",
       " '#aapl',\n",
       " '#technologya',\n",
       " '#Apple',\n",
       " '#Apple',\n",
       " '#AAPL',\n",
       " '#Apple',\n",
       " '#aapl',\n",
       " '#ipod',\n",
       " '#apple',\n",
       " '#soslow',\n",
       " '#AAPL',\n",
       " '#slc',\n",
       " '#citycreek',\n",
       " '#apple',\n",
       " '#applestore',\n",
       " '#red',\n",
       " '#Rumors',\n",
       " '#Surface',\n",
       " '#Apple',\n",
       " '#iPhone6S',\n",
       " '#iPhone7',\n",
       " '#2015',\n",
       " '#Wednesday',\n",
       " '#December',\n",
       " '#Apple',\n",
       " '#aapl',\n",
       " '#iPhone',\n",
       " '#iPad',\n",
       " '#aapl',\n",
       " '#aapl',\n",
       " '#iOS8',\n",
       " '#iPhone6Plus',\n",
       " '#phablets',\n",
       " '#Jobspring',\n",
       " '#technews',\n",
       " '#iPhone',\n",
       " '#aapl',\n",
       " '#ipadmini',\n",
       " '#ipad',\n",
       " '#macbook',\n",
       " '#macbookpro',\n",
       " '#startup',\n",
       " '#hipster',\n",
       " '#unbox',\n",
       " '#AAPL',\n",
       " '#Apple',\n",
       " '#AAPL',\n",
       " '#CRUS',\n",
       " '#AAPL',\n",
       " '#connected',\n",
       " '#txed',\n",
       " '#aapl',\n",
       " '#Apple',\n",
       " '#AppleWatch',\n",
       " '#aapl',\n",
       " '#LikeWatchingPaintDry',\n",
       " '#nyc',\n",
       " '#travel',\n",
       " '#NYC',\n",
       " '#EricGarner',\n",
       " '#AAPL',\n",
       " '#apple',\n",
       " '#PoliceBodyCameras',\n",
       " '#Toledo',\n",
       " '#stickybrand',\n",
       " '#ChartOfTheDay',\n",
       " '#AAPL',\n",
       " '#appstore',\n",
       " '#aapl',\n",
       " '#iosissues',\n",
       " '#iOS',\n",
       " '#SwiftKey',\n",
       " '#Swype',\n",
       " '#Android',\n",
       " '#Apple',\n",
       " '#Facebook',\n",
       " '#Google',\n",
       " '#aapl',\n",
       " '#fb',\n",
       " '#goog',\n",
       " '#iphone6',\n",
       " '#MobilePhone',\n",
       " '#iphone5',\n",
       " '#ipad2',\n",
       " '#G5macpro',\n",
       " '#startups',\n",
       " '#nice',\n",
       " '#iPhone6',\n",
       " '#iPhone6',\n",
       " '#TMobile',\n",
       " '#Apple',\n",
       " '#tech',\n",
       " '#smartphone',\n",
       " '#Macs',\n",
       " '#PCs',\n",
       " '#aapl',\n",
       " '#Apple',\n",
       " '#AAPL',\n",
       " '#aapl',\n",
       " '#aapl',\n",
       " '#ecommerce',\n",
       " '#AAPL',\n",
       " '#AAPL',\n",
       " '#funconvo',\n",
       " '#JMP',\n",
       " '#AAPL',\n",
       " '#Stocks',\n",
       " '#WallStreet',\n",
       " '#Mobile',\n",
       " '#MobileDose',\n",
       " '#iPhone6Plus',\n",
       " '#thestruggleisreal',\n",
       " '#Apple',\n",
       " '#AppleWatches',\n",
       " '#aapl',\n",
       " '#Apple',\n",
       " '#IPhone6Plus',\n",
       " '#White',\n",
       " '#Friday',\n",
       " '#December',\n",
       " '#AAPL',\n",
       " '#AAPL',\n",
       " '#free',\n",
       " '#AAPL',\n",
       " '#Winnipeg',\n",
       " '#AAPL',\n",
       " '#simplicity',\n",
       " '#AAPL',\n",
       " '#ipad',\n",
       " '#AAPL',\n",
       " '#Apple',\n",
       " '#Apple',\n",
       " '#SteveJobs',\n",
       " '#aapl',\n",
       " '#AAPL',\n",
       " '#customer',\n",
       " '#journey',\n",
       " '#search',\n",
       " '#checkout',\n",
       " '#CX',\n",
       " '#UX',\n",
       " '#ecommerce',\n",
       " '#casestudy',\n",
       " '#ProAudio',\n",
       " '#AAPL',\n",
       " '#Wozniak',\n",
       " '#Apple',\n",
       " '#SteveJobs',\n",
       " '#aapl',\n",
       " '#iPhone5s',\n",
       " '#aapl',\n",
       " '#Chromecast',\n",
       " '#AppleTV',\n",
       " '#aapl',\n",
       " '#Apple',\n",
       " '#aapl',\n",
       " '#iPod',\n",
       " '#bayarea',\n",
       " '#techies',\n",
       " '#iphone',\n",
       " '#iCloud',\n",
       " '#Apple',\n",
       " '#HealthKit',\n",
       " '#AAPL',\n",
       " '#ipodtouch5thgen',\n",
       " '#iPhone6',\n",
       " '#Apple',\n",
       " '#Wednesday',\n",
       " '#December',\n",
       " '#wearabletechnology',\n",
       " '#aapl',\n",
       " '#payments',\n",
       " '#SteveJobs',\n",
       " '#iPod',\n",
       " '#aapl',\n",
       " '#aapl',\n",
       " '#Stockaction',\n",
       " '#trading',\n",
       " '#Stocks',\n",
       " '#MKt',\n",
       " '#WearableDevices',\n",
       " '#Consumers',\n",
       " '#IBDNews',\n",
       " '#aapl',\n",
       " '#nke',\n",
       " '#grmn',\n",
       " '#amba',\n",
       " '#invn',\n",
       " '#tech',\n",
       " '#Zuckerberg',\n",
       " '#Cook',\n",
       " '#fb',\n",
       " '#aapl',\n",
       " '#EggFreezing',\n",
       " '#WomenInTech',\n",
       " '#xcode',\n",
       " '#AAPL',\n",
       " '#ApplePay',\n",
       " '#AAPL',\n",
       " '#aapl',\n",
       " '#aapl',\n",
       " '#apple',\n",
       " '#iphone',\n",
       " '#iphone4s',\n",
       " '#iphone4problems',\n",
       " '#AAPL',\n",
       " '#AAPL',\n",
       " '#sortitout',\n",
       " '#China',\n",
       " '#AppleWatch',\n",
       " '#Wearables',\n",
       " '#WearableTech',\n",
       " '#Apple',\n",
       " '#apple',\n",
       " '#retail',\n",
       " '#India',\n",
       " '#Holiday',\n",
       " '#Giveaway',\n",
       " '#PromoProduct',\n",
       " '#HeadsAreGoingToRoll',\n",
       " '#education',\n",
       " '#BDSM',\n",
       " '#Emojis',\n",
       " '#ipodtouch5thgen',\n",
       " '#fail',\n",
       " '#Apple',\n",
       " '#AAPL',\n",
       " '#AAPL',\n",
       " '#CarPlay',\n",
       " '#greatservice',\n",
       " '#sylvester',\n",
       " '#falseadvertising',\n",
       " '#nono',\n",
       " '#AAPL',\n",
       " '#Russia',\n",
       " '#Ban',\n",
       " '#Apple',\n",
       " '#iPhone',\n",
       " '#Lawmakers',\n",
       " '#AAPL',\n",
       " '#tech',\n",
       " '#security',\n",
       " '#AAPL',\n",
       " '#bbry',\n",
       " '#blackberry',\n",
       " '#iPhone',\n",
       " '#aapl',\n",
       " '#aapl',\n",
       " '#innovation',\n",
       " '#COMET',\n",
       " '#Apple',\n",
       " '#Tech',\n",
       " '#aapl',\n",
       " '#Rumors',\n",
       " '#Surface',\n",
       " '#Apple',\n",
       " '#iPhone6S',\n",
       " '#iPhone7',\n",
       " '#2015',\n",
       " '#Wednesday',\n",
       " '#December',\n",
       " '#iPod',\n",
       " '#aapl',\n",
       " '#AAPL',\n",
       " '#AAPL',\n",
       " '#RED',\n",
       " '#app',\n",
       " '#Apple',\n",
       " '#iPhones',\n",
       " '#aapl',\n",
       " '#iPhone6',\n",
       " '#iPhone6',\n",
       " '#6',\n",
       " '#Apple',\n",
       " '#Sunday',\n",
       " '#December',\n",
       " '#Apple',\n",
       " '#iPhone6',\n",
       " '#iPhone6Plus',\n",
       " '#techsupport',\n",
       " '#macbook',\n",
       " '#macbookpro',\n",
       " '#startup',\n",
       " '#hipster',\n",
       " '#Apple',\n",
       " '#iPhone',\n",
       " '#aapl',\n",
       " '#BlackDollarsMatter',\n",
       " '#LGBTQ',\n",
       " '#disappointed',\n",
       " '#AAPL',\n",
       " '#Coding',\n",
       " '#apple',\n",
       " '#Apple',\n",
       " '#iPadMini4',\n",
       " '#aapl',\n",
       " '#AAPL',\n",
       " '#AppleCordFire',\n",
       " '#Zuckerberg',\n",
       " '#Cook',\n",
       " '#fb',\n",
       " '#aapl',\n",
       " '#Trading',\n",
       " '#stocks',\n",
       " '#futures',\n",
       " '#forex',\n",
       " '#trader',\n",
       " '#es',\n",
       " '#baba',\n",
       " '#aapl',\n",
       " '#gpro',\n",
       " '#fb',\n",
       " '#eem',\n",
       " '#eSignal',\n",
       " '#Apple',\n",
       " '#aapl',\n",
       " '#InvestWall',\n",
       " '#AAPL',\n",
       " '#iPad',\n",
       " '#EBAY',\n",
       " '#CyberMonday',\n",
       " '#firstworldproblems',\n",
       " '#PromoProduct',\n",
       " '#HeadsAreGoingToRoll',\n",
       " '#MFi',\n",
       " '#macbook',\n",
       " '#macbookpro',\n",
       " '#startup',\n",
       " '#hipster',\n",
       " '#unboxing',\n",
       " '#Apple',\n",
       " '#AAPL',\n",
       " '#RealNetworks',\n",
       " '#AAPL',\n",
       " '#AAPL',\n",
       " '#iOS7',\n",
       " '#mobilesecurity',\n",
       " '#McAfee',\n",
       " '#Apple',\n",
       " '#aapl',\n",
       " '#longreads',\n",
       " '#webdesign',\n",
       " '#glitches',\n",
       " '#OnFoodableWeekly',\n",
       " '#Pizza',\n",
       " '#Apple',\n",
       " '#Wozniak',\n",
       " '#aapl',\n",
       " '#woz',\n",
       " '#business',\n",
       " '#service',\n",
       " '#company',\n",
       " '#AAPL',\n",
       " '#aapl',\n",
       " '#not',\n",
       " '#iphone6plus',\n",
       " '#apple',\n",
       " '#macbook',\n",
       " '#YosemiteProblems',\n",
       " '#Yosemite',\n",
       " '#fail',\n",
       " '#AAPL',\n",
       " '#aapl',\n",
       " '#Yay',\n",
       " '#AAPL',\n",
       " '#CondoSeniors',\n",
       " '#AAPL',\n",
       " '#Robots',\n",
       " '#fabricando',\n",
       " '#iPhone',\n",
       " '#iPad',\n",
       " '#Apple',\n",
       " '#Sunday',\n",
       " '#December',\n",
       " '#AppleWatch',\n",
       " '#AAPL',\n",
       " '#incompetence',\n",
       " '#AppleID',\n",
       " '#NoMorePaywords',\n",
       " '#not',\n",
       " '#Jobs',\n",
       " '#Apple',\n",
       " '#SteveJobs',\n",
       " '#aapl',\n",
       " '#iPhones',\n",
       " '#RareEarths',\n",
       " '#iPhone6Plus',\n",
       " '#AAPL',\n",
       " '#iTunes',\n",
       " '#GoogleMusic',\n",
       " '#aapl',\n",
       " '#goog',\n",
       " '#morphing',\n",
       " '#antitrust',\n",
       " '#french',\n",
       " '#aapl',\n",
       " '#Verr',\n",
       " '#Ger',\n",
       " '#iPhone6s',\n",
       " '#Apple',\n",
       " '#Wednesday',\n",
       " '#December',\n",
       " '#Apple',\n",
       " '#iPhones',\n",
       " '#aapl',\n",
       " '#fixit',\n",
       " '#doclens',\n",
       " '#AAPL',\n",
       " '#AAPL',\n",
       " '#AAPL',\n",
       " '#CmonMan',\n",
       " '#Apple',\n",
       " '#Google',\n",
       " '#Apple',\n",
       " '#AAPL',\n",
       " '#aapl',\n",
       " '#NASDAQ',\n",
       " '#stocks',\n",
       " '#AAPL',\n",
       " '#Apple',\n",
       " '#AAPL',\n",
       " '#iPhone6Mini',\n",
       " '#umich',\n",
       " '#iphone6',\n",
       " '#applewatch',\n",
       " '#Education',\n",
       " '#Tech',\n",
       " '#smartwatch',\n",
       " '#aapl',\n",
       " '#aapl',\n",
       " '#AAPL',\n",
       " '#ColoradoLovesYou',\n",
       " '#Apple',\n",
       " '#is',\n",
       " '#iPhone',\n",
       " '#map',\n",
       " '#Monday',\n",
       " '#December',\n",
       " '#motivation',\n",
       " '#Apple',\n",
       " '#Launch',\n",
       " '#iPhone6',\n",
       " '#2015',\n",
       " '#Monday',\n",
       " '#December',\n",
       " '#ConnectED',\n",
       " '#txed',\n",
       " '#txed',\n",
       " '#aapl',\n",
       " '#hnhd',\n",
       " '#AAPL',\n",
       " '#Sydney',\n",
       " '#airmilesshops',\n",
       " '#Russia',\n",
       " '#Kalashnikov',\n",
       " '#AAPL',\n",
       " '#aapl',\n",
       " '#Apple',\n",
       " '#iphone7',\n",
       " '#appstore',\n",
       " '#PromoProduct',\n",
       " '#HeadsAreGoingToRoll',\n",
       " '#MFi',\n",
       " '#crapple',\n",
       " '#fail',\n",
       " '#aapl',\n",
       " '#cunts',\n",
       " '#fucking',\n",
       " '#Yosemite',\n",
       " '#UPDATE',\n",
       " '#Pricks',\n",
       " '#aapl',\n",
       " '#AAPL',\n",
       " '#AAPL',\n",
       " '#AAPL',\n",
       " '#iPhone',\n",
       " '#aapl',\n",
       " '#AAPL',\n",
       " '#Apple',\n",
       " '#CRMSuite',\n",
       " '#iPod',\n",
       " '#MusicBiz',\n",
       " '#MusicIndustry',\n",
       " '#Apple',\n",
       " '#AAPL',\n",
       " '#iPad',\n",
       " '#autocorrectprobs',\n",
       " '#AAPL',\n",
       " '#AAPL',\n",
       " '#AAPL',\n",
       " '#Apple',\n",
       " '#AAPL',\n",
       " '#GwenStefani',\n",
       " '#CyberMonday',\n",
       " '#Ipads',\n",
       " '#Iphones',\n",
       " '#Mac',\n",
       " '#IPhone6Plus',\n",
       " '#A',\n",
       " '#Apple',\n",
       " '#iPhone',\n",
       " '#Thursday',\n",
       " '#December',\n",
       " '#AppleWatch',\n",
       " '#aapl',\n",
       " '#appleemojissuck',\n",
       " '#Apple',\n",
       " '#aapl',\n",
       " '#Apple',\n",
       " '#iPhone6S',\n",
       " '#iPhone7',\n",
       " '#aapl',\n",
       " '#vod',\n",
       " '#streaming',\n",
       " '#Apple',\n",
       " '#Inc',\n",
       " '#iPhone6',\n",
       " '#But',\n",
       " '#Monday',\n",
       " '#December',\n",
       " '#FixIt',\n",
       " '#iPhone6',\n",
       " '#aapl',\n",
       " '#engagement',\n",
       " '#personalization',\n",
       " '#AAPL',\n",
       " '#Nasdaq100',\n",
       " '#recent',\n",
       " '#market',\n",
       " '#exit',\n",
       " '#4',\n",
       " '#gain',\n",
       " '#AAPL',\n",
       " '#forex',\n",
       " '#trading',\n",
       " '#stocks',\n",
       " '#aapl',\n",
       " '#profit',\n",
       " '#Apple',\n",
       " '#AAPL',\n",
       " '#options',\n",
       " '#trade',\n",
       " '#trading',\n",
       " '#finance',\n",
       " '#short',\n",
       " '#bet',\n",
       " '#hedge',\n",
       " '#customerservice',\n",
       " '#AAPL',\n",
       " '#Apple',\n",
       " '#iPad',\n",
       " '#AAPL',\n",
       " '#AAPL',\n",
       " '#Apple',\n",
       " '#AAPL',\n",
       " '#greatcompany',\n",
       " '#AAPL',\n",
       " '#iOS',\n",
       " '#1',\n",
       " '#AAPL',\n",
       " '#PutCallRatios',\n",
       " '#code',\n",
       " '#analysis',\n",
       " '#web',\n",
       " '#tech',\n",
       " '#nerdup',\n",
       " '#AAPL',\n",
       " '#IPhone6Plus',\n",
       " '#Has',\n",
       " '#Apple',\n",
       " '#Phablet',\n",
       " '#Thursday',\n",
       " '#Decem',\n",
       " '#FinTech',\n",
       " '#AAPL',\n",
       " '#aapl',\n",
       " '#Apple',\n",
       " '#textmessage',\n",
       " '#AAPL',\n",
       " '#CyberMonday',\n",
       " '#PayPal',\n",
       " '#Apple',\n",
       " '#AAPL',\n",
       " '#eBay',\n",
       " '#WalMart',\n",
       " '#WMT',\n",
       " '#Sales',\n",
       " '#Apple',\n",
       " '#Loop',\n",
       " '#iPhone6S',\n",
       " '#Jobs',\n",
       " '#Saturday',\n",
       " '#December',\n",
       " '#ipadmini',\n",
       " '#ipad',\n",
       " '#macbook',\n",
       " '#macbookpro',\n",
       " '#startup',\n",
       " '#hipster',\n",
       " '#unboxing',\n",
       " '#OpenUp',\n",
       " '#iPhones',\n",
       " '#WintersEve',\n",
       " '#NYC',\n",
       " '#aapl',\n",
       " '#Lego',\n",
       " '#makers',\n",
       " '#Robots',\n",
       " '#fabricando',\n",
       " '#iPhone',\n",
       " '#iPad',\n",
       " '#Apple',\n",
       " '#Sunday',\n",
       " '#December',\n",
       " '#appleprobs',\n",
       " '#appleproblems',\n",
       " '#aapl',\n",
       " '#aapl',\n",
       " '#smhq',\n",
       " '#Apple',\n",
       " '#aapl',\n",
       " '#apple',\n",
       " '#Monetizaton',\n",
       " '#WatchKit',\n",
       " '#AAPL',\n",
       " '#aapl',\n",
       " '#Stockaction',\n",
       " '#trading',\n",
       " '#Stocks',\n",
       " '#MKt',\n",
       " ...]"
      ]
     },
     "execution_count": 185,
     "metadata": {},
     "output_type": "execute_result"
    }
   ],
   "source": [
    "hashtags = [element for innerList in hashtags for element in innerList]\n",
    "hashtags"
   ]
  },
  {
   "cell_type": "code",
   "execution_count": 186,
   "metadata": {},
   "outputs": [],
   "source": [
    "hashtags_frq = []\n",
    "\n",
    "for hashtag in set_hashtags:\n",
    "    frq = hashtags.count(hashtag)\n",
    "    hashtags_frq.append((hashtag, frq))"
   ]
  },
  {
   "cell_type": "code",
   "execution_count": 187,
   "metadata": {},
   "outputs": [],
   "source": [
    "hashtags_frq.sort(key = lambda x: x[1],reverse=True)"
   ]
  },
  {
   "cell_type": "code",
   "execution_count": 201,
   "metadata": {},
   "outputs": [
    {
     "name": "stdout",
     "output_type": "stream",
     "text": [
      "The number of hashtags in the dataset is:  607\n"
     ]
    }
   ],
   "source": [
    "print('The number of hashtags in the dataset is: ', len(hashtags_frq))"
   ]
  },
  {
   "cell_type": "code",
   "execution_count": 197,
   "metadata": {
    "scrolled": false
   },
   "outputs": [
    {
     "data": {
      "text/plain": [
       "[('#AAPL', 203),\n",
       " ('#aapl', 197),\n",
       " ('#Apple', 134),\n",
       " ('#December', 37),\n",
       " ('#iPhone', 33),\n",
       " ('#apple', 27),\n",
       " ('#iPhone6', 24),\n",
       " ('#trading', 9),\n",
       " ('#SteveJobs', 9),\n",
       " ('#Monday', 9)]"
      ]
     },
     "execution_count": 197,
     "metadata": {},
     "output_type": "execute_result"
    }
   ],
   "source": [
    "hashtags_frq[0:10]"
   ]
  },
  {
   "cell_type": "code",
   "execution_count": 198,
   "metadata": {},
   "outputs": [],
   "source": [
    "hashtag = []\n",
    "freq = []\n",
    "\n",
    "for i in hashtags_frq[0:10]:\n",
    "    hashtag.append(i[0])\n",
    "    freq.append(i[1])"
   ]
  },
  {
   "cell_type": "code",
   "execution_count": 200,
   "metadata": {},
   "outputs": [
    {
     "data": {
      "text/plain": [
       "<BarContainer object of 10 artists>"
      ]
     },
     "execution_count": 200,
     "metadata": {},
     "output_type": "execute_result"
    },
    {
     "data": {
      "image/png": "[encoded data removed]",
      "text/plain": [
       "<Figure size 864x720 with 1 Axes>"
      ]
     },
     "metadata": {
      "needs_background": "light"
     },
     "output_type": "display_data"
    }
   ],
   "source": [
    "plt.figure(figsize=(12,10))\n",
    "plt.bar(hashtag, freq)"
   ]
  }
 ],
 "metadata": {
  "kernelspec": {
   "display_name": "Python 3 (ipykernel)",
   "language": "python",
   "name": "python3"
  },
  "language_info": {
   "codemirror_mode": {
    "name": "ipython",
    "version": 3
   },
   "file_extension": ".py",
   "mimetype": "text/x-python",
   "name": "python",
   "nbconvert_exporter": "python",
   "pygments_lexer": "ipython3",
   "version": "3.8.3"
  }
 },
 "nbformat": 4,
 "nbformat_minor": 5
}
